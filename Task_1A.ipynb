{
 "cells": [
  {
   "cell_type": "markdown",
   "metadata": {},
   "source": [
    "```Pythonista - Saurabh Zinjad```\n",
    "# Build a Fully Connected 2 - Layer Neural Network to Classify Digits\n",
    "\n",
    "This notebook will serve as implementation of the API that we have created in our \"Code\" folder.\n",
    "\n",
    "We will be using inbuilt MNIST dataset present in PyTorch and train a neural network to classify digits. "
   ]
  },
  {
   "cell_type": "markdown",
   "metadata": {},
   "source": [
    "## Step and ToDOs\n",
    "\n",
    "1. First of all, import the libraries and the dataset.\n",
    "2. Next, show dataset samples and distribution of different type of data. For example, in case of MNIST you can show some random images and their labels. Also, show distribution of each class of images.\n",
    "3. Next, perform required transformations on MNIST dataset (normalization, scaling, grayscaling if required, etc) using torchvision transforms.\n",
    "4. Create required dataloaders on PyTorch MNIST dataset to load data in mini-batches.\n",
    "5. Train the model, show loss and accuracy at each step of operation.\n",
    "6. Plot the **loss curve for both train and validation phase**\n",
    "7. Pick some manual random images from test dataset and predict their values **showing expected and actual result**."
   ]
  },
  {
   "cell_type": "markdown",
   "metadata": {},
   "source": [
    "# Our solution"
   ]
  },
  {
   "cell_type": "markdown",
   "metadata": {},
   "source": [
    " ## The project\n",
    "\n",
    "There are four general steps that we’ll be following as we move through this project:\n",
    "\n",
    " ### 1. Data Preparation\n",
    " ### 2. Data visualization\n",
    " ### 3. Training and Evaluation\n",
    " ### 4. Test Set Prediction\n",
    " ### 5. showing expected and actual result\n"
   ]
  },
  {
   "cell_type": "code",
   "execution_count": 1,
   "metadata": {},
   "outputs": [],
   "source": [
    "# Homecoming (eYRC-2018): Task 1A\n",
    "# Build a Fully Connected 2-Layer Neural Network to Classify Digits\n",
    "# NOTE: You can only use Tensor API of PyTorch\n",
    "\n",
    "# Import Our Model\n",
    "from nnet import model\n",
    "\n",
    "# TODO: import torch and torchvision libraries\n",
    "# We will use torchvision's transforms and datasets\n",
    "import math\n",
    "import torch # Version 0.4.1\n",
    "import torchvision # Version 0.2.1\n",
    "import torchvision.datasets as datasets\n",
    "import torchvision.transforms as transforms\n",
    "\n",
    "# For Visualization of Data\n",
    "import numpy as np\n",
    "import matplotlib.pyplot as plt\n",
    "\n",
    "# To show plots in notebook itself\n",
    "%matplotlib inline\n",
    "\n",
    "torch.set_printoptions(linewidth=20)\n",
    "# set linewidth for PyTorch output that is print in console"
   ]
  },
  {
   "cell_type": "markdown",
   "metadata": {},
   "source": [
    "## 1. Data Preparation\n",
    "#### 1. 1 Extract The Data\n",
    "#### 1. 2 Transform The Data\n",
    "#### 1. 3 Load The Data\n",
    "\n",
    " For these purposes, PyTorch provides us with two classes:\n",
    " \n",
    " - torch.utils.data.Dataset -\tAn abstract class for representing a dataset.\n",
    " - torch.utils.data.DataLoader -\tWraps a dataset and provides access to the underlying data. \n"
   ]
  },
  {
   "cell_type": "markdown",
   "metadata": {},
   "source": [
    "### 1.1 Extract and Transform The Data\n",
    "* Extract - Get the MNIST image data from the source.<br>\n",
    "* Transform - Put our data into ```tensor``` form."
   ]
  },
  {
   "cell_type": "code",
   "execution_count": 2,
   "metadata": {},
   "outputs": [],
   "source": [
    "# TODO: Defining torchvision transforms for preprocessing\n",
    "transform_param = transforms.Compose([transforms.ToTensor()])\n",
    "\n",
    "# TODO: Using torchvision datasets to load MNIST\n",
    "trainset = datasets.MNIST('./data', train=True, download=True, transform=transform_param) \n",
    "validset = datasets.MNIST('./data', train=True, download=True, transform=transform_param) \n",
    "testset = datasets.MNIST('./data', train=False, download=True, transform=transform_param)"
   ]
  },
  {
   "cell_type": "code",
   "execution_count": 3,
   "metadata": {},
   "outputs": [],
   "source": [
    "# Spliting training set of MNIST in 90% of Train set and 10% Validation set\n",
    "valid_size = 0.1\n",
    "num_train = len(trainset)\n",
    "num_test = len(testset)\n",
    "indices = torch.LongTensor(range(num_train))\n",
    "split = int(math.floor(valid_size * num_train))\n",
    "\n",
    "# Shuffle the Indices\n",
    "torch.manual_seed(42)\n",
    "indices = indices[torch.randperm(num_train)]\n",
    "\n",
    "# Split the train and valid set\n",
    "train_idx, valid_idx = indices[split:], indices[:split]\n",
    "train_sampler = torch.utils.data.sampler.SubsetRandomSampler(train_idx)\n",
    "valid_sampler = torch.utils.data.sampler.SubsetRandomSampler(valid_idx)\n",
    "\n",
    "# NOTE: Use training batch size = 4 in train data loader.\n",
    "batch_size = 4"
   ]
  },
  {
   "cell_type": "markdown",
   "metadata": {},
   "source": [
    "### 1.3 Load The Data\n",
    "* Put our data into an object to make it easily accessible."
   ]
  },
  {
   "cell_type": "code",
   "execution_count": 4,
   "metadata": {},
   "outputs": [],
   "source": [
    "# TODO: Use torch.utils.data.DataLoader to create loaders for train and test \n",
    "trainset_loader = torch.utils.data.DataLoader(trainset, batch_size=batch_size, sampler=train_sampler)\n",
    "validset_loader = torch.utils.data.DataLoader(validset, batch_size=split, sampler=valid_sampler)\n",
    "testset_loader = torch.utils.data.DataLoader(testset, batch_size=num_test)"
   ]
  },
  {
   "cell_type": "markdown",
   "metadata": {},
   "source": [
    "## 2. Data visualization\n",
    "\n",
    "Let's explore the dataset, especially to determine the dimension of data."
   ]
  },
  {
   "cell_type": "code",
   "execution_count": 5,
   "metadata": {},
   "outputs": [
    {
     "name": "stdout",
     "output_type": "stream",
     "text": [
      "Length of Training set :  60000\n",
      "Length of Testing set :  10000\n"
     ]
    }
   ],
   "source": [
    "print(\"Length of Training set : \", num_train)\n",
    "print(\"Length of Testing set : \", num_test)"
   ]
  },
  {
   "cell_type": "code",
   "execution_count": 6,
   "metadata": {
    "scrolled": false
   },
   "outputs": [
    {
     "name": "stdout",
     "output_type": "stream",
     "text": [
      "unique labels in MNIST dataset : \n",
      "0 1 2 3 4 5 6 7 8 9, \n",
      "\n",
      "Count of unique labels in MNIST dataset : \n",
      "5923 6742 5958 6131 5842 5421 5918 6265 5851 5949, "
     ]
    }
   ],
   "source": [
    "unique_labels = trainset.train_labels.unique(sorted=True)\n",
    "unique_labels_counts = trainset.train_labels.bincount()\n",
    "print(\"unique labels in MNIST dataset : \")\n",
    "print(*unique_labels.data.numpy(), end=', ')\n",
    "print(\"\\n\\nCount of unique labels in MNIST dataset : \")\n",
    "print(*unique_labels_counts.data.numpy(),end=', ')"
   ]
  },
  {
   "cell_type": "code",
   "execution_count": 7,
   "metadata": {
    "scrolled": true
   },
   "outputs": [
    {
     "data": {
      "image/png": "[encoded data removed]",
      "text/plain": [
       "<Figure size 432x288 with 1 Axes>"
      ]
     },
     "metadata": {
      "needs_background": "light"
     },
     "output_type": "display_data"
    }
   ],
   "source": [
    "# Histogram of the classes\n",
    "plt.bar(unique_labels, unique_labels_counts,align = 'center', width=0.6, color = 'c')\n",
    "plt.xlabel('Number of labels', fontsize=16)\n",
    "plt.xticks(unique_labels)\n",
    "plt.ylabel('Count of each labels', fontsize=16)\n",
    "plt.title('Histogram of the Labels', fontsize=16)\n",
    "plt.show()"
   ]
  },
  {
   "cell_type": "markdown",
   "metadata": {},
   "source": [
    "<b> access an individual element from the training set</b><br>\n",
    "\n",
    "```iter``` - returns an object representing a stream of data.<br>\n",
    "```next``` - gives next data element in the stream of data."
   ]
  },
  {
   "cell_type": "code",
   "execution_count": 8,
   "metadata": {},
   "outputs": [
    {
     "name": "stdout",
     "output_type": "stream",
     "text": [
      "Shape of Image :  torch.Size([1, 28, 28]) \n",
      "Shape of Label :  torch.Size([])\n",
      "Label :  tensor(5)\n"
     ]
    },
    {
     "data": {
      "image/png": "[encoded data removed]",
      "text/plain": [
       "<Figure size 216x216 with 1 Axes>"
      ]
     },
     "metadata": {
      "needs_background": "light"
     },
     "output_type": "display_data"
    }
   ],
   "source": [
    "sample = next(iter(trainset))\n",
    "# type(sample) = tuple\n",
    "# Sequence Unpacking\n",
    "image, label = sample\n",
    "print('Shape of Image : ',image.shape, '\\nShape of Label : ', label.shape)\n",
    "plt.figure(figsize=(3,3))\n",
    "plt.imshow(image.squeeze(),cmap='gray')\n",
    "print('Label : ', label)"
   ]
  },
  {
   "cell_type": "code",
   "execution_count": 9,
   "metadata": {},
   "outputs": [],
   "source": [
    "def show_batch(batch):\n",
    "    im = torchvision.utils.make_grid(batch)\n",
    "    plt.figure(figsize=(10,10))\n",
    "    plt.imshow(np.transpose(im.numpy(), (1, 2, 0)))"
   ]
  },
  {
   "cell_type": "code",
   "execution_count": 10,
   "metadata": {
    "scrolled": false
   },
   "outputs": [
    {
     "name": "stdout",
     "output_type": "stream",
     "text": [
      "Shape of Images :  torch.Size([4, 1, 28, 28]) \n",
      "Shape of Labels :  torch.Size([4])\n"
     ]
    },
    {
     "data": {
      "image/png": "[encoded data removed]",
      "text/plain": [
       "<Figure size 720x720 with 1 Axes>"
      ]
     },
     "metadata": {
      "needs_background": "light"
     },
     "output_type": "display_data"
    }
   ],
   "source": [
    "batch = next(iter(trainset_loader))\n",
    "# type(batch) : list\n",
    "images, labels = batch\n",
    "print('Shape of Images : ', images.shape, '\\nShape of Labels : ',labels.shape)\n",
    "show_batch(images)"
   ]
  },
  {
   "cell_type": "markdown",
   "metadata": {},
   "source": [
    "## 3. Training and Evaluation\n",
    "\n",
    "1. Setup the parameters\n",
    "2. Initialize the Model\n",
    "3. Train and Validate the network"
   ]
  },
  {
   "cell_type": "markdown",
   "metadata": {},
   "source": [
    "#### 3.1. Setup the parameters"
   ]
  },
  {
   "cell_type": "code",
   "execution_count": 11,
   "metadata": {},
   "outputs": [],
   "source": [
    "# NOTE: Don't change these settings\n",
    "device = \"cuda:0\" if torch.cuda.is_available() else \"cpu\"\n",
    "\n",
    "# NOTE: Don't change these settings\n",
    "# Layer size\n",
    "N_in = 28 * 28 # Input size\n",
    "N_h1 = 256 # Hidden Layer 1 size\n",
    "N_h2 = 256 # Hidden Layer 2 size\n",
    "N_out = 10 # Output size\n",
    "# Learning rate\n",
    "lr = 0.01\n",
    "# TODO: Define number of epochs\n",
    "N_epoch = 7 # Or keep it as is"
   ]
  },
  {
   "cell_type": "markdown",
   "metadata": {},
   "source": [
    "#### 3.2. Initialize the Model"
   ]
  },
  {
   "cell_type": "code",
   "execution_count": 12,
   "metadata": {},
   "outputs": [],
   "source": [
    "# init model\n",
    "net = model.FullyConnected(N_in, N_h1, N_h2, N_out, device=device)"
   ]
  },
  {
   "cell_type": "markdown",
   "metadata": {},
   "source": [
    "#### 3.3. Train and Validate the network"
   ]
  },
  {
   "cell_type": "code",
   "execution_count": 13,
   "metadata": {
    "scrolled": true
   },
   "outputs": [
    {
     "name": "stdout",
     "output_type": "stream",
     "text": [
      "Train Epoch:  1 [ 4778.0 / 6000 ] ( 79.63 %)   Loss:  0.6805070638656616\n",
      "Train Epoch:  2 [ 5277.0 / 6000 ] ( 87.95 %)   Loss:  0.41358789801597595\n",
      "Train Epoch:  3 [ 5342.0 / 6000 ] ( 89.03 %)   Loss:  0.3682004511356354\n",
      "Train Epoch:  4 [ 5412.0 / 6000 ] ( 90.20 %)   Loss:  0.33186665177345276\n",
      "Train Epoch:  5 [ 5460.0 / 6000 ] ( 91.00 %)   Loss:  0.3017430305480957\n",
      "Train Epoch:  6 [ 5506.0 / 6000 ] ( 91.77 %)   Loss:  0.2738052010536194\n",
      "Train Epoch:  7 [ 5534.0 / 6000 ] ( 92.23 %)   Loss:  0.2593851089477539\n"
     ]
    }
   ],
   "source": [
    "# TODO: Training and Validation Loop\n",
    "# >>> for n epochs\n",
    "loss_for_epoch = []\n",
    "for i in range(N_epoch):\n",
    "    print(\"Train Epoch: \", i+1,end=' ')\n",
    "# ## >>> for all mini batches\n",
    "    for batch in trainset_loader:\n",
    "        images = batch[0]\n",
    "        images = images.reshape(images.size()[0], N_in)\n",
    "        labels = batch[1]\n",
    "### >>> net.train(...)\n",
    "        net.train(images, labels, lr=lr, debug=False)\n",
    "## at the end of each training epoch\n",
    "    for batch in validset_loader:\n",
    "        images = batch[0]\n",
    "        images = images.reshape(images.size()[0], N_in)\n",
    "        labels = batch[1]\n",
    "## >>> net.eval(...)\n",
    "        creloss, accuracy, outputs = net.eval(images, labels, debug= True)\n",
    "        loss_for_epoch.append(creloss)"
   ]
  },
  {
   "cell_type": "code",
   "execution_count": 14,
   "metadata": {},
   "outputs": [
    {
     "data": {
      "image/png": "[encoded data removed]",
      "text/plain": [
       "<Figure size 432x288 with 1 Axes>"
      ]
     },
     "metadata": {
      "needs_background": "light"
     },
     "output_type": "display_data"
    }
   ],
   "source": [
    "plt.plot(loss_for_epoch)\n",
    "plt.xlabel('Epoches', fontsize=16)\n",
    "plt.xticks([i for i in range(N_epoch)])\n",
    "plt.ylabel('Loss Per Epoch', fontsize=16)\n",
    "plt.yticks(loss_for_epoch)\n",
    "plt.title('Loss Vs Epoch', fontsize=16)\n",
    "plt.show()"
   ]
  },
  {
   "cell_type": "markdown",
   "metadata": {},
   "source": [
    "## 4. Test Set Prediction"
   ]
  },
  {
   "cell_type": "code",
   "execution_count": 15,
   "metadata": {
    "scrolled": true
   },
   "outputs": [
    {
     "name": "stdout",
     "output_type": "stream",
     "text": [
      "=========== Traning Phase ===========\n",
      "Correct Predictions : 9313 / 10000\n",
      "Test Accuracy       : 93.13 %\n"
     ]
    }
   ],
   "source": [
    "# TODO: End of Training\n",
    "# make predictions on randomly selected test examples\n",
    "# >>> net.predict(...)\n",
    "predicted_labels = []\n",
    "for i, batch in enumerate(testset_loader):\n",
    "    images = batch[0]\n",
    "    images = images.reshape(images.size()[0], N_in)\n",
    "    labels = batch[1]\n",
    "    score, idx = net.predict(images)\n",
    "    predicted_labels.append(idx)\n",
    "    prediction = sum((idx == labels).long()).item()\n",
    "    print(\"=========== Traning Phase ===========\")\n",
    "    print(\"Correct Predictions :\",prediction,\"/\",len(labels))\n",
    "    print(\"Test Accuracy       :\", prediction / len(labels) * 100, \"%\")\n",
    "\n",
    "predicted_labels = predicted_labels[0]"
   ]
  },
  {
   "cell_type": "markdown",
   "metadata": {},
   "source": [
    "### 5. showing expected and actual result"
   ]
  },
  {
   "cell_type": "code",
   "execution_count": 18,
   "metadata": {},
   "outputs": [
    {
     "data": {
      "image/png": "[encoded data removed]",
      "text/plain": [
       "<Figure size 576x576 with 20 Axes>"
      ]
     },
     "metadata": {
      "needs_background": "light"
     },
     "output_type": "display_data"
    }
   ],
   "source": [
    "w=10\n",
    "h=10\n",
    "fig=plt.figure(figsize=(8, 8))\n",
    "columns = 4\n",
    "rows = 5\n",
    "for i in range(1, columns*rows +1):\n",
    "    fig.add_subplot(rows, columns, i)\n",
    "    plt.title('Label '+str(predicted_labels[i].item()))\n",
    "    plt.imshow(testset.test_data[i].squeeze(),cmap='gray',)"
   ]
  }
 ],
 "metadata": {
  "kernelspec": {
   "display_name": "Python 3",
   "language": "python",
   "name": "python3"
  },
  "language_info": {
   "codemirror_mode": {
    "name": "ipython",
    "version": 3
   },
   "file_extension": ".py",
   "mimetype": "text/x-python",
   "name": "python",
   "nbconvert_exporter": "python",
   "pygments_lexer": "ipython3",
   "version": "3.6.6"
  }
 },
 "nbformat": 4,
 "nbformat_minor": 2
}
